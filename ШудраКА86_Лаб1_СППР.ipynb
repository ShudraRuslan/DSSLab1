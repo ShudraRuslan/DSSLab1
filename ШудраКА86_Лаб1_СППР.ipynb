{
  "nbformat": 4,
  "nbformat_minor": 0,
  "metadata": {
    "colab": {
      "name": "ШудраКА86_Лаб1_СППР",
      "provenance": [],
      "collapsed_sections": [],
      "include_colab_link": true
    },
    "kernelspec": {
      "name": "python3",
      "display_name": "Python 3"
    }
  },
  "cells": [
    {
      "cell_type": "markdown",
      "metadata": {
        "id": "view-in-github",
        "colab_type": "text"
      },
      "source": [
        "<a href=\"https://colab.research.google.com/github/ShudraRuslan/DSSLab1/blob/main/%D0%A8%D1%83%D0%B4%D1%80%D0%B0%D0%9A%D0%9086_%D0%9B%D0%B0%D0%B11_%D0%A1%D0%9F%D0%9F%D0%A0.ipynb\" target=\"_parent\"><img src=\"https://colab.research.google.com/assets/colab-badge.svg\" alt=\"Open In Colab\"/></a>"
      ]
    },
    {
      "cell_type": "code",
      "metadata": {
        "id": "YZmPQUnbhm05"
      },
      "source": [
        "import numpy as np\n",
        "import matplotlib.pyplot as plt\n",
        "from sklearn.model_selection import train_test_split \n",
        "from sklearn.preprocessing import StandardScaler, MinMaxScaler, Normalizer\n",
        "import tensorflow as tf\n",
        "import typing as tp\n",
        "import os"
      ],
      "execution_count": null,
      "outputs": []
    },
    {
      "cell_type": "code",
      "metadata": {
        "id": "s3GzC8sqtUls"
      },
      "source": [
        " \n",
        " \n",
        "checkpoint_path = \"training_1/cp.ckpt\"\n",
        "checkpoint_dir = os.path.dirname(checkpoint_path)\n",
        " \n",
        "plt.rcParams['figure.figsize'] = [16, 8]"
      ],
      "execution_count": null,
      "outputs": []
    },
    {
      "cell_type": "markdown",
      "metadata": {
        "id": "bDeA2kGXvxZs"
      },
      "source": [
        "# Модели и обертки"
      ]
    },
    {
      "cell_type": "markdown",
      "metadata": {
        "id": "nLVBhcVHC7UL"
      },
      "source": [
        "1. Создадим класс наследующий базовую модель keras с параметрами модели\n",
        "2. Определим основной метод расчета исходного значения\n"
      ]
    },
    {
      "cell_type": "code",
      "metadata": {
        "id": "KieQLqolqmfV"
      },
      "source": [
        "class Model(tf.keras.Model):\n",
        "  def __init__(self,**kwargs):\n",
        "    super().__init__(**kwargs)\n",
        "    self.theta_1 = tf.Variable([[0.01]])\n",
        "    self.theta_2 = tf.Variable([[0.01]])\n",
        "    self.theta_3 = tf.Variable([[0.01]])\n",
        "    self.theta_4 = tf.Variable([[0.01]])\n",
        "\n",
        "  def __call__(self, x,**kwargs):\n",
        "    return tf.reduce_sum(tf.multiply(tf.pow(x, 3), self.theta_1) + \n",
        "            tf.multiply(tf.pow(x, 2), self.theta_2) + \n",
        "            tf.multiply(x, self.theta_3) + \n",
        "            self.theta_4, axis=1, keepdims=True)"
      ],
      "execution_count": null,
      "outputs": []
    },
    {
      "cell_type": "markdown",
      "metadata": {
        "id": "1Hd01-98DLSR"
      },
      "source": [
        "\n",
        "\n",
        "1.  Определим класс обертку над моделью, где будем выполнять дополнительные действия: сохранять значения весов, считать функцию потерь\n",
        "2.  Добавим базовый функцилнал настройки и оценки модели\n",
        "\n"
      ]
    },
    {
      "cell_type": "code",
      "metadata": {
        "id": "x2WWaKoG90Lk"
      },
      "source": [
        "class ModelWrapper:\n",
        "  def __init__(self):\n",
        "    self.model = Model()\n",
        "    self.loss_func = tf.keras.losses.mean_squared_error\n",
        "    self.params = dict()\n",
        "    self.cp_callback = tf.keras.callbacks.ModelCheckpoint(\n",
        "        filepath=checkpoint_path,\n",
        "        save_weights_only=True,\n",
        "        verbose=0)\n",
        "    \n",
        "  def get_loss(self, x_val, y_val):\n",
        "    return tf.reduce_mean(tf.square(\n",
        "        tf.Variable(y_val, dtype=tf.float32) - \n",
        "        self.model(tf.Variable(x_val, dtype=tf.float32))\n",
        "        ))\n",
        "\n",
        "  def add_l2_to_loss(self, loss_function, weights_for_normalization, l2_rate):\n",
        "    def l2(weight):\n",
        "      return tf.reduce_sum(tf.square(weight))\n",
        "    def l2_loss(y_actual,y_pred):\n",
        "      base_loss = loss_function(y_actual,y_pred)\n",
        "      return base_loss + l2_rate * tf.reduce_sum(tf.map_fn(l2, tf.stack(weights_for_normalization, axis=0)))\n",
        "    return l2_loss\n",
        "\n",
        "  def compile(self, learning_rate, l2_rate):\n",
        "    self.loss_func = self.add_l2_to_loss(tf.keras.losses.mean_squared_error, self.model.weights, l2_rate)\n",
        "    self.model.compile(\n",
        "        run_eagerly=False,\n",
        "        optimizer=tf.keras.optimizers.SGD(learning_rate),\n",
        "        loss=self.loss_func,\n",
        "    )\n",
        "\n",
        "  def __call__(self, x):\n",
        "    return self.model(x)\n",
        "\n",
        "  def fit(self, x, y, epochs, learning_rate, batch_size, l2_rate):\n",
        "    self.params = {\"epochs\": epochs, \"learning_rate\": learning_rate, \"batch_size\": batch_size, \"l2_rate\": l2_rate}\n",
        "    self.compile(learning_rate, l2_rate)\n",
        "    self.model.fit(x, y, epochs, batch_size, verbose=0,callbacks=[self.cp_callback])\n"
      ],
      "execution_count": null,
      "outputs": []
    },
    {
      "cell_type": "markdown",
      "metadata": {
        "id": "wMFYcTAdDVxh"
      },
      "source": [
        "\n",
        "\n",
        "1.   Создадим класс для грид-поиска гиперпараметров: коеффициента регуляризации, количества мини-пакетов\n",
        "2.   Определим базовые методы перебора\n",
        "\n"
      ]
    },
    {
      "cell_type": "code",
      "metadata": {
        "id": "cbZMZpWmA29R"
      },
      "source": [
        "class Tuner:\n",
        "  def __init__(self, params, model_builder):\n",
        "    self.model_builder = model_builder\n",
        "    self.params = params\n",
        "    self.models = []\n",
        "\n",
        "  def param_seq(self):\n",
        "    grid = [list()]\n",
        "    for v in self.params.values():\n",
        "      new_grids = []\n",
        "      for item in v:\n",
        "        new_grid = []\n",
        "        for grid_item in grid:\n",
        "          new_grid.append(grid_item + [item])\n",
        "        new_grids += new_grid\n",
        "      grid = new_grids\n",
        "    seq = []\n",
        "    for v in grid:\n",
        "      param = dict()\n",
        "      for k, item in zip(self.params.keys(), v):\n",
        "        param[k] = item\n",
        "      seq.append(param)\n",
        "    return seq\n",
        "\n",
        "  def evaluate(self, x_train, y_train, x_val, y_val):\n",
        "    seq = self.param_seq()\n",
        "    results = []\n",
        "    for param in seq:\n",
        "      model = self.model_builder()\n",
        "      model.fit(x_train, y_train, **param)\n",
        "      local_result = model.get_loss(x_val, y_val)\n",
        "      results.append((model, local_result))\n",
        "      print(f\"mse for {param} is {local_result.numpy()}\")\n",
        "    return min(results, key=lambda x: x[1])"
      ],
      "execution_count": null,
      "outputs": []
    },
    {
      "cell_type": "markdown",
      "metadata": {
        "id": "tSLxZxwOvxxx"
      },
      "source": [
        "# Первый набор данных"
      ]
    },
    {
      "cell_type": "code",
      "metadata": {
        "id": "KQRSJ_2riNsj"
      },
      "source": [
        "def make_data():\n",
        "  X = np.linspace(-1,1,101) \n",
        "  num_coef=10 \n",
        "  coef =[ -100 ,2 ,3 , -3000 ,5 ,6 ,4 ,300 ,2 ,600] \n",
        "  y=0 \n",
        "  for i in range ( num_coef ) : \n",
        "    y += coef[ i ] * np.power (X, i ) \n",
        "    y += np.random.randn (*X.shape)* 100.5 \n",
        "\n",
        "  return X, y"
      ],
      "execution_count": null,
      "outputs": []
    },
    {
      "cell_type": "code",
      "metadata": {
        "id": "UptrRqa9iSg0",
        "colab": {
          "base_uri": "https://localhost:8080/",
          "height": 501
        },
        "outputId": "e9adf9b6-3c9f-4b18-bb5c-4c40ea01efd2"
      },
      "source": [
        "X, y = make_data()\n",
        "plt.scatter(X, y)"
      ],
      "execution_count": null,
      "outputs": [
        {
          "output_type": "execute_result",
          "data": {
            "text/plain": [
              "<matplotlib.collections.PathCollection at 0x7f2f47952d90>"
            ]
          },
          "metadata": {
            "tags": []
          },
          "execution_count": 18
        },
        {
          "output_type": "display_data",
          "data": {
            "image/png": "[encoded data removed]",
            "text/plain": [
              "<Figure size 1152x576 with 1 Axes>"
            ]
          },
          "metadata": {
            "tags": [],
            "needs_background": "light"
          }
        }
      ]
    },
    {
      "cell_type": "code",
      "metadata": {
        "id": "vHXI6rn1jygH",
        "colab": {
          "base_uri": "https://localhost:8080/",
          "height": 501
        },
        "outputId": "7bddad65-149e-4654-df9d-03e9bc3849e6"
      },
      "source": [
        "X=X.reshape(-1,1)\n",
        "y=y.reshape(-1,1)\n",
        "scaler = StandardScaler().fit(X)\n",
        "X=scaler.transform(X)\n",
        "scaler=StandardScaler().fit(y)\n",
        "y=scaler.transform(y)\n",
        "x_train, x_test_dev, y_train, y_test_dev = train_test_split(X, y, test_size=0.2)\n",
        "x_test, x_val, y_test, y_val = train_test_split(x_test_dev, y_test_dev, test_size=0.2)\n",
        "plt.scatter(X, y)"
      ],
      "execution_count": null,
      "outputs": [
        {
          "output_type": "execute_result",
          "data": {
            "text/plain": [
              "<matplotlib.collections.PathCollection at 0x7f2f477e8950>"
            ]
          },
          "metadata": {
            "tags": []
          },
          "execution_count": 19
        },
        {
          "output_type": "display_data",
          "data": {
            "image/png": "[encoded data removed]",
            "text/plain": [
              "<Figure size 1152x576 with 1 Axes>"
            ]
          },
          "metadata": {
            "tags": [],
            "needs_background": "light"
          }
        }
      ]
    },
    {
      "cell_type": "code",
      "metadata": {
        "id": "Mp2HFB08fiSz"
      },
      "source": [
        "tuner = Tuner({\n",
        "    \"epochs\": [100],\n",
        "    \"learning_rate\": [0.01, 0.02, 0.05,0.1],\n",
        "    \"batch_size\": [10, 20, 30,50],\n",
        "    \"l2_rate\": [0.01, 0.05, 0.1]\n",
        "  },\n",
        "  model_builder = ModelWrapper\n",
        ")"
      ],
      "execution_count": null,
      "outputs": []
    },
    {
      "cell_type": "code",
      "metadata": {
        "colab": {
          "base_uri": "https://localhost:8080/"
        },
        "id": "v99K0WxTfu3U",
        "outputId": "4ff96c72-c357-40e6-c70a-0b6782481d9b"
      },
      "source": [
        "best_model, val_loss = tuner.evaluate(x_train, y_train, x_val, y_val)"
      ],
      "execution_count": null,
      "outputs": [
        {
          "output_type": "stream",
          "text": [
            "mse for {'epochs': 100, 'learning_rate': 0.01, 'batch_size': 10, 'l2_rate': 0.01} is 0.3590105175971985\n",
            "mse for {'epochs': 100, 'learning_rate': 0.02, 'batch_size': 10, 'l2_rate': 0.01} is 0.12459214776754379\n",
            "mse for {'epochs': 100, 'learning_rate': 0.05, 'batch_size': 10, 'l2_rate': 0.01} is 0.0651225596666336\n",
            "mse for {'epochs': 100, 'learning_rate': 0.1, 'batch_size': 10, 'l2_rate': 0.01} is 0.06520877033472061\n",
            "mse for {'epochs': 100, 'learning_rate': 0.01, 'batch_size': 20, 'l2_rate': 0.01} is 0.13361023366451263\n",
            "mse for {'epochs': 100, 'learning_rate': 0.02, 'batch_size': 20, 'l2_rate': 0.01} is 0.06985612213611603\n",
            "mse for {'epochs': 100, 'learning_rate': 0.05, 'batch_size': 20, 'l2_rate': 0.01} is 0.06519057601690292\n",
            "mse for {'epochs': 100, 'learning_rate': 0.1, 'batch_size': 20, 'l2_rate': 0.01} is 0.06633146852254868\n",
            "mse for {'epochs': 100, 'learning_rate': 0.01, 'batch_size': 30, 'l2_rate': 0.01} is 0.08447100967168808\n",
            "mse for {'epochs': 100, 'learning_rate': 0.02, 'batch_size': 30, 'l2_rate': 0.01} is 0.06529291719198227\n",
            "mse for {'epochs': 100, 'learning_rate': 0.05, 'batch_size': 30, 'l2_rate': 0.01} is 0.06583644449710846\n",
            "mse for {'epochs': 100, 'learning_rate': 0.1, 'batch_size': 30, 'l2_rate': 0.01} is 0.06687678396701813\n",
            "mse for {'epochs': 100, 'learning_rate': 0.01, 'batch_size': 50, 'l2_rate': 0.01} is 0.06696738302707672\n",
            "mse for {'epochs': 100, 'learning_rate': 0.02, 'batch_size': 50, 'l2_rate': 0.01} is 0.06519246846437454\n",
            "mse for {'epochs': 100, 'learning_rate': 0.05, 'batch_size': 50, 'l2_rate': 0.01} is 0.06662808358669281\n",
            "mse for {'epochs': 100, 'learning_rate': 0.1, 'batch_size': 50, 'l2_rate': 0.01} is 0.06725214421749115\n",
            "mse for {'epochs': 100, 'learning_rate': 0.01, 'batch_size': 10, 'l2_rate': 0.05} is 0.3612196743488312\n",
            "mse for {'epochs': 100, 'learning_rate': 0.02, 'batch_size': 10, 'l2_rate': 0.05} is 0.12745320796966553\n",
            "mse for {'epochs': 100, 'learning_rate': 0.05, 'batch_size': 10, 'l2_rate': 0.05} is 0.06748516857624054\n",
            "mse for {'epochs': 100, 'learning_rate': 0.1, 'batch_size': 10, 'l2_rate': 0.05} is 0.06756812334060669\n",
            "mse for {'epochs': 100, 'learning_rate': 0.01, 'batch_size': 20, 'l2_rate': 0.05} is 0.13656586408615112\n",
            "mse for {'epochs': 100, 'learning_rate': 0.02, 'batch_size': 20, 'l2_rate': 0.05} is 0.0723196268081665\n",
            "mse for {'epochs': 100, 'learning_rate': 0.05, 'batch_size': 20, 'l2_rate': 0.05} is 0.06754723936319351\n",
            "mse for {'epochs': 100, 'learning_rate': 0.1, 'batch_size': 20, 'l2_rate': 0.05} is 0.0686066746711731\n",
            "mse for {'epochs': 100, 'learning_rate': 0.01, 'batch_size': 30, 'l2_rate': 0.05} is 0.08718682825565338\n",
            "mse for {'epochs': 100, 'learning_rate': 0.02, 'batch_size': 30, 'l2_rate': 0.05} is 0.06766416132450104\n",
            "mse for {'epochs': 100, 'learning_rate': 0.05, 'batch_size': 30, 'l2_rate': 0.05} is 0.06815725564956665\n",
            "mse for {'epochs': 100, 'learning_rate': 0.1, 'batch_size': 30, 'l2_rate': 0.05} is 0.06906552612781525\n",
            "mse for {'epochs': 100, 'learning_rate': 0.01, 'batch_size': 50, 'l2_rate': 0.05} is 0.06937704980373383\n",
            "mse for {'epochs': 100, 'learning_rate': 0.02, 'batch_size': 50, 'l2_rate': 0.05} is 0.06754746288061142\n",
            "mse for {'epochs': 100, 'learning_rate': 0.05, 'batch_size': 50, 'l2_rate': 0.05} is 0.06885895133018494\n",
            "mse for {'epochs': 100, 'learning_rate': 0.1, 'batch_size': 50, 'l2_rate': 0.05} is 0.0693432092666626\n",
            "mse for {'epochs': 100, 'learning_rate': 0.01, 'batch_size': 10, 'l2_rate': 0.1} is 0.3639800250530243\n",
            "mse for {'epochs': 100, 'learning_rate': 0.02, 'batch_size': 10, 'l2_rate': 0.1} is 0.13107194006443024\n",
            "mse for {'epochs': 100, 'learning_rate': 0.05, 'batch_size': 10, 'l2_rate': 0.1} is 0.07061273604631424\n",
            "mse for {'epochs': 100, 'learning_rate': 0.1, 'batch_size': 10, 'l2_rate': 0.1} is 0.070694699883461\n",
            "mse for {'epochs': 100, 'learning_rate': 0.01, 'batch_size': 20, 'l2_rate': 0.1} is 0.14029711484909058\n",
            "mse for {'epochs': 100, 'learning_rate': 0.02, 'batch_size': 20, 'l2_rate': 0.1} is 0.07554370909929276\n",
            "mse for {'epochs': 100, 'learning_rate': 0.05, 'batch_size': 20, 'l2_rate': 0.1} is 0.07067074626684189\n",
            "mse for {'epochs': 100, 'learning_rate': 0.1, 'batch_size': 20, 'l2_rate': 0.1} is 0.07163343578577042\n",
            "mse for {'epochs': 100, 'learning_rate': 0.01, 'batch_size': 30, 'l2_rate': 0.1} is 0.09067775309085846\n",
            "mse for {'epochs': 100, 'learning_rate': 0.02, 'batch_size': 30, 'l2_rate': 0.1} is 0.07080195844173431\n",
            "mse for {'epochs': 100, 'learning_rate': 0.05, 'batch_size': 30, 'l2_rate': 0.1} is 0.0712367370724678\n",
            "mse for {'epochs': 100, 'learning_rate': 0.1, 'batch_size': 30, 'l2_rate': 0.1} is 0.07200177758932114\n",
            "mse for {'epochs': 100, 'learning_rate': 0.01, 'batch_size': 50, 'l2_rate': 0.1} is 0.07255084812641144\n",
            "mse for {'epochs': 100, 'learning_rate': 0.02, 'batch_size': 50, 'l2_rate': 0.1} is 0.07066898792982101\n",
            "mse for {'epochs': 100, 'learning_rate': 0.05, 'batch_size': 50, 'l2_rate': 0.1} is 0.07183863967657089\n",
            "mse for {'epochs': 100, 'learning_rate': 0.1, 'batch_size': 50, 'l2_rate': 0.1} is 0.07219202816486359\n"
          ],
          "name": "stdout"
        }
      ]
    },
    {
      "cell_type": "code",
      "metadata": {
        "colab": {
          "base_uri": "https://localhost:8080/"
        },
        "id": "ULYdr5hZfxdY",
        "outputId": "baac218b-02af-4c94-8356-f390a0737f5d"
      },
      "source": [
        "print(f\"best model params is {best_model.params} with total_val_loss = {val_loss}\")"
      ],
      "execution_count": null,
      "outputs": [
        {
          "output_type": "stream",
          "text": [
            "best model params is {'epochs': 100, 'learning_rate': 0.05, 'batch_size': 10, 'l2_rate': 0.01} with total_val_loss = 0.0651225596666336\n"
          ],
          "name": "stdout"
        }
      ]
    },
    {
      "cell_type": "code",
      "metadata": {
        "colab": {
          "base_uri": "https://localhost:8080/",
          "height": 501
        },
        "id": "CglkRX3hr45b",
        "outputId": "c9d8ef6f-132b-47f3-f38f-f46a3e2641eb"
      },
      "source": [
        "model_y_test = best_model(tf.Variable(X, dtype=tf.float32))\n",
        "plt.scatter(X, y)\n",
        "plt.scatter(X, model_y_test)"
      ],
      "execution_count": null,
      "outputs": [
        {
          "output_type": "execute_result",
          "data": {
            "text/plain": [
              "<matplotlib.collections.PathCollection at 0x7f2f26d16b10>"
            ]
          },
          "metadata": {
            "tags": []
          },
          "execution_count": 23
        },
        {
          "output_type": "display_data",
          "data": {
            "image/png": "[encoded data removed]",
            "text/plain": [
              "<Figure size 1152x576 with 1 Axes>"
            ]
          },
          "metadata": {
            "tags": [],
            "needs_background": "light"
          }
        }
      ]
    },
    {
      "cell_type": "markdown",
      "metadata": {
        "id": "1XXr2GxMwAFk"
      },
      "source": [
        "# Второй набор данных"
      ]
    },
    {
      "cell_type": "code",
      "metadata": {
        "id": "fzCFERC7vnYv"
      },
      "source": [
        "from sklearn.datasets import make_friedman2 "
      ],
      "execution_count": null,
      "outputs": []
    },
    {
      "cell_type": "code",
      "metadata": {
        "id": "T_20Z8f5v3yT"
      },
      "source": [
        "dataset = make_friedman2()"
      ],
      "execution_count": null,
      "outputs": []
    },
    {
      "cell_type": "code",
      "metadata": {
        "id": "9VKXTtgywgn4"
      },
      "source": [
        "data = dataset[0]\n",
        "target = dataset[1].reshape(-1,1)"
      ],
      "execution_count": null,
      "outputs": []
    },
    {
      "cell_type": "code",
      "metadata": {
        "id": "xXgv11Y2zdim"
      },
      "source": [
        "scaler = StandardScaler().fit(data)\n",
        "data=scaler.transform(data)\n",
        "scaler=StandardScaler().fit(target)\n",
        "target=scaler.transform(target)\n",
        "x_train, x_test_dev, y_train, y_test_dev = train_test_split(data, target, test_size=0.2)\n",
        "x_test, x_val, y_test, y_val = train_test_split(x_test_dev, y_test_dev, test_size=0.2)"
      ],
      "execution_count": null,
      "outputs": []
    },
    {
      "cell_type": "code",
      "metadata": {
        "id": "w7jAYBvxwy-s"
      },
      "source": [
        "from sklearn.decomposition import PCA\n",
        "pca=PCA(n_components=1)\n",
        "X_reduced=pca.fit_transform(data)\n"
      ],
      "execution_count": null,
      "outputs": []
    },
    {
      "cell_type": "code",
      "metadata": {
        "colab": {
          "base_uri": "https://localhost:8080/",
          "height": 501
        },
        "id": "-eyuLoz4xiwn",
        "outputId": "c36ff99a-1d09-45ea-d625-4069640e2f34"
      },
      "source": [
        "plt.scatter(X_reduced,target)"
      ],
      "execution_count": null,
      "outputs": [
        {
          "output_type": "execute_result",
          "data": {
            "text/plain": [
              "<matplotlib.collections.PathCollection at 0x7f2f2633ab50>"
            ]
          },
          "metadata": {
            "tags": []
          },
          "execution_count": 39
        },
        {
          "output_type": "display_data",
          "data": {
            "image/png": "[encoded data removed]",
            "text/plain": [
              "<Figure size 1152x576 with 1 Axes>"
            ]
          },
          "metadata": {
            "tags": [],
            "needs_background": "light"
          }
        }
      ]
    },
    {
      "cell_type": "code",
      "metadata": {
        "id": "OPp5aGOVw1Yf"
      },
      "source": [
        "tuner = Tuner({\n",
        "    \"epochs\": [100],\n",
        "    \"learning_rate\": [0.01, 0.02, 0.05,0.1],\n",
        "    \"batch_size\": [10, 20, 30,50],\n",
        "    \"l2_rate\": [0.01, 0.05, 0.1]\n",
        "  },\n",
        "  model_builder = ModelWrapper\n",
        ")"
      ],
      "execution_count": null,
      "outputs": []
    },
    {
      "cell_type": "code",
      "metadata": {
        "colab": {
          "base_uri": "https://localhost:8080/"
        },
        "id": "4mgM8xtV4xFM",
        "outputId": "dfdf352e-3dfd-404b-cdb2-f550cfb81e4d"
      },
      "source": [
        "best_model, val_loss = tuner.evaluate(x_train, y_train, x_val, y_val)"
      ],
      "execution_count": null,
      "outputs": [
        {
          "output_type": "stream",
          "text": [
            "mse for {'epochs': 100, 'learning_rate': 0.01, 'batch_size': 10, 'l2_rate': 0.01} is 0.1889665722846985\n",
            "mse for {'epochs': 100, 'learning_rate': 0.02, 'batch_size': 10, 'l2_rate': 0.01} is 0.18489080667495728\n",
            "mse for {'epochs': 100, 'learning_rate': 0.05, 'batch_size': 10, 'l2_rate': 0.01} is 579819.6875\n",
            "mse for {'epochs': 100, 'learning_rate': 0.1, 'batch_size': 10, 'l2_rate': 0.01} is 30494657871872.0\n",
            "mse for {'epochs': 100, 'learning_rate': 0.01, 'batch_size': 20, 'l2_rate': 0.01} is 0.18489110469818115\n",
            "mse for {'epochs': 100, 'learning_rate': 0.02, 'batch_size': 20, 'l2_rate': 0.01} is 0.17880773544311523\n",
            "mse for {'epochs': 100, 'learning_rate': 0.05, 'batch_size': 20, 'l2_rate': 0.01} is 10532208771072.0\n",
            "mse for {'epochs': 100, 'learning_rate': 0.1, 'batch_size': 20, 'l2_rate': 0.01} is 2.9674571787883177e+28\n",
            "mse for {'epochs': 100, 'learning_rate': 0.01, 'batch_size': 30, 'l2_rate': 0.01} is 0.18146418035030365\n",
            "mse for {'epochs': 100, 'learning_rate': 0.02, 'batch_size': 30, 'l2_rate': 0.01} is 0.17525413632392883\n",
            "mse for {'epochs': 100, 'learning_rate': 0.05, 'batch_size': 30, 'l2_rate': 0.01} is 1.9096075179046155e+20\n",
            "mse for {'epochs': 100, 'learning_rate': 0.1, 'batch_size': 30, 'l2_rate': 0.01} is inf\n",
            "mse for {'epochs': 100, 'learning_rate': 0.01, 'batch_size': 50, 'l2_rate': 0.01} is 0.1767907738685608\n",
            "mse for {'epochs': 100, 'learning_rate': 0.02, 'batch_size': 50, 'l2_rate': 0.01} is 0.17233791947364807\n",
            "mse for {'epochs': 100, 'learning_rate': 0.05, 'batch_size': 50, 'l2_rate': 0.01} is 6.277566704535299e+34\n",
            "mse for {'epochs': 100, 'learning_rate': 0.1, 'batch_size': 50, 'l2_rate': 0.01} is inf\n",
            "mse for {'epochs': 100, 'learning_rate': 0.01, 'batch_size': 10, 'l2_rate': 0.05} is 0.18884500861167908\n",
            "mse for {'epochs': 100, 'learning_rate': 0.02, 'batch_size': 10, 'l2_rate': 0.05} is 0.18486960232257843\n",
            "mse for {'epochs': 100, 'learning_rate': 0.05, 'batch_size': 10, 'l2_rate': 0.05} is 599525.625\n",
            "mse for {'epochs': 100, 'learning_rate': 0.1, 'batch_size': 10, 'l2_rate': 0.05} is 31335812956160.0\n",
            "mse for {'epochs': 100, 'learning_rate': 0.01, 'batch_size': 20, 'l2_rate': 0.05} is 0.18487221002578735\n",
            "mse for {'epochs': 100, 'learning_rate': 0.02, 'batch_size': 20, 'l2_rate': 0.05} is 0.17898043990135193\n",
            "mse for {'epochs': 100, 'learning_rate': 0.05, 'batch_size': 20, 'l2_rate': 0.05} is 11274705436672.0\n",
            "mse for {'epochs': 100, 'learning_rate': 0.1, 'batch_size': 20, 'l2_rate': 0.05} is 3.1376951848392304e+28\n",
            "mse for {'epochs': 100, 'learning_rate': 0.01, 'batch_size': 30, 'l2_rate': 0.05} is 0.1815512329339981\n",
            "mse for {'epochs': 100, 'learning_rate': 0.02, 'batch_size': 30, 'l2_rate': 0.05} is 0.1755383163690567\n",
            "mse for {'epochs': 100, 'learning_rate': 0.05, 'batch_size': 30, 'l2_rate': 0.05} is 2.1163195742074333e+20\n",
            "mse for {'epochs': 100, 'learning_rate': 0.1, 'batch_size': 30, 'l2_rate': 0.05} is inf\n",
            "mse for {'epochs': 100, 'learning_rate': 0.01, 'batch_size': 50, 'l2_rate': 0.05} is 0.17703396081924438\n",
            "mse for {'epochs': 100, 'learning_rate': 0.02, 'batch_size': 50, 'l2_rate': 0.05} is 0.17260415852069855\n",
            "mse for {'epochs': 100, 'learning_rate': 0.05, 'batch_size': 50, 'l2_rate': 0.05} is 7.456440663138248e+34\n",
            "mse for {'epochs': 100, 'learning_rate': 0.1, 'batch_size': 50, 'l2_rate': 0.05} is inf\n",
            "mse for {'epochs': 100, 'learning_rate': 0.01, 'batch_size': 10, 'l2_rate': 0.1} is 0.1886984258890152\n",
            "mse for {'epochs': 100, 'learning_rate': 0.02, 'batch_size': 10, 'l2_rate': 0.1} is 0.18484587967395782\n",
            "mse for {'epochs': 100, 'learning_rate': 0.05, 'batch_size': 10, 'l2_rate': 0.1} is 625051.5625\n",
            "mse for {'epochs': 100, 'learning_rate': 0.1, 'batch_size': 10, 'l2_rate': 0.1} is 32418171977728.0\n",
            "mse for {'epochs': 100, 'learning_rate': 0.01, 'batch_size': 20, 'l2_rate': 0.1} is 0.18485118448734283\n",
            "mse for {'epochs': 100, 'learning_rate': 0.02, 'batch_size': 20, 'l2_rate': 0.1} is 0.17919206619262695\n",
            "mse for {'epochs': 100, 'learning_rate': 0.05, 'batch_size': 20, 'l2_rate': 0.1} is 12274819399680.0\n",
            "mse for {'epochs': 100, 'learning_rate': 0.1, 'batch_size': 20, 'l2_rate': 0.1} is 3.3639069285749487e+28\n",
            "mse for {'epochs': 100, 'learning_rate': 0.01, 'batch_size': 30, 'l2_rate': 0.1} is 0.18165886402130127\n",
            "mse for {'epochs': 100, 'learning_rate': 0.02, 'batch_size': 30, 'l2_rate': 0.1} is 0.17588850855827332\n",
            "mse for {'epochs': 100, 'learning_rate': 0.05, 'batch_size': 30, 'l2_rate': 0.1} is 2.405853003579455e+20\n",
            "mse for {'epochs': 100, 'learning_rate': 0.1, 'batch_size': 30, 'l2_rate': 0.1} is inf\n",
            "mse for {'epochs': 100, 'learning_rate': 0.01, 'batch_size': 50, 'l2_rate': 0.1} is 0.17733173072338104\n",
            "mse for {'epochs': 100, 'learning_rate': 0.02, 'batch_size': 50, 'l2_rate': 0.1} is 0.17296698689460754\n",
            "mse for {'epochs': 100, 'learning_rate': 0.05, 'batch_size': 50, 'l2_rate': 0.1} is 9.242186005791943e+34\n",
            "mse for {'epochs': 100, 'learning_rate': 0.1, 'batch_size': 50, 'l2_rate': 0.1} is inf\n"
          ],
          "name": "stdout"
        }
      ]
    },
    {
      "cell_type": "code",
      "metadata": {
        "colab": {
          "base_uri": "https://localhost:8080/"
        },
        "id": "mHkXih1x40fp",
        "outputId": "5dbd9ac0-c7f9-4cd3-8baa-ad04ee874932"
      },
      "source": [
        "print(f\"best model params is {best_model.params} with total_val_loss = {val_loss}\")"
      ],
      "execution_count": null,
      "outputs": [
        {
          "output_type": "stream",
          "text": [
            "best model params is {'epochs': 100, 'learning_rate': 0.02, 'batch_size': 50, 'l2_rate': 0.01} with total_val_loss = 0.17233791947364807\n"
          ],
          "name": "stdout"
        }
      ]
    },
    {
      "cell_type": "code",
      "metadata": {
        "colab": {
          "base_uri": "https://localhost:8080/",
          "height": 501
        },
        "id": "FyzXoVoH7b7v",
        "outputId": "09fcd4c1-e4dc-412c-cf7c-72d2d104a30d"
      },
      "source": [
        "model_y_test = best_model(tf.Variable(X_reduced, dtype=tf.float32))\n",
        "plt.scatter(X_reduced, target)\n",
        "plt.scatter(X_reduced, model_y_test)"
      ],
      "execution_count": null,
      "outputs": [
        {
          "output_type": "execute_result",
          "data": {
            "text/plain": [
              "<matplotlib.collections.PathCollection at 0x7f2f319627d0>"
            ]
          },
          "metadata": {
            "tags": []
          },
          "execution_count": 43
        },
        {
          "output_type": "display_data",
          "data": {
            "image/png": "[encoded data removed]",
            "text/plain": [
              "<Figure size 1152x576 with 1 Axes>"
            ]
          },
          "metadata": {
            "tags": [],
            "needs_background": "light"
          }
        }
      ]
    }
  ]
}